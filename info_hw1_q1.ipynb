{
 "cells": [
  {
   "cell_type": "code",
   "execution_count": 109,
   "metadata": {
    "collapsed": true
   },
   "outputs": [],
   "source": [
    "import numpy as np\n",
    "def encodecoder(b,siz=1000,verbose=True):\n",
    "    #create a random array \n",
    "    r=np.random.randint(0,len(b),siz)\n",
    "\n",
    "    # create a random string made of given codeword \n",
    "    s=''\n",
    "    for item in r:\n",
    "        s+=b[item]\n",
    "\n",
    "\n",
    "\n",
    "    itemP='' #itemPrefix if codeword not found\n",
    "    rd=[]    #randomDecoded array from random string\n",
    "\n",
    "    #iterate through the string\n",
    "    for item in s:\n",
    "\n",
    "        #prepend the codeword from previous read and check for existence\n",
    "        if itemP+item in b:\n",
    "            #if found, append the decoded codeword by finding the index\n",
    "            rd.append(b.index(itemP+item))\n",
    "\n",
    "            #reset the prepend string\n",
    "            itemP=''\n",
    "        else:\n",
    "            #if codeword not found, append the prepend string\n",
    "            itemP+=item\n",
    "\n",
    "            \n",
    "    if verbose:\n",
    "        #print the diff netween send and decoded\n",
    "        print \"error in decoding is\",(np.array(rd)-r)\n",
    "    else:\n",
    "        #print the unique values\n",
    "        print \"unique values in decoding, zero implies no error\\n\",np.unique(np.array(rd)-r),'\\n\\n'\n",
    "    return r,rd\n"
   ]
  },
  {
   "cell_type": "code",
   "execution_count": 112,
   "metadata": {
    "collapsed": true
   },
   "outputs": [],
   "source": [
    "a=['0','10','110','1110','11110','111110','1111110','1111111']#race 1\n",
    "b=['0','100','1010','1011','1100','1101','1110','1111']#race 2\n",
    "c=['10','11','011','010','0011','0010','0001','0000']#race 3\n",
    "\n",
    "al=[a,b,c]#answer list\n",
    "siz=1000\n",
    "verbose=False #True to make it print the entire array"
   ]
  },
  {
   "cell_type": "code",
   "execution_count": 111,
   "metadata": {
    "collapsed": false
   },
   "outputs": [
    {
     "name": "stdout",
     "output_type": "stream",
     "text": [
      "unique values in decoding, zero implies no error\n",
      "[0] \n",
      "\n",
      "\n",
      "unique values in decoding, zero implies no error\n",
      "[0] \n",
      "\n",
      "\n",
      "unique values in decoding, zero implies no error\n",
      "[0] \n",
      "\n",
      "\n"
     ]
    }
   ],
   "source": [
    "for b in al:\n",
    "    encodecoder(b,siz,verbose)"
   ]
  },
  {
   "cell_type": "code",
   "execution_count": null,
   "metadata": {
    "collapsed": true
   },
   "outputs": [],
   "source": []
  }
 ],
 "metadata": {
  "kernelspec": {
   "display_name": "Python 2",
   "language": "python",
   "name": "python2"
  },
  "language_info": {
   "codemirror_mode": {
    "name": "ipython",
    "version": 2
   },
   "file_extension": ".py",
   "mimetype": "text/x-python",
   "name": "python",
   "nbconvert_exporter": "python",
   "pygments_lexer": "ipython2",
   "version": "2.7.10"
  }
 },
 "nbformat": 4,
 "nbformat_minor": 0
}
